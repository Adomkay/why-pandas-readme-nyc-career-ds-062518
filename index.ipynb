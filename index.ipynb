{
 "cells": [
  {
   "cell_type": "markdown",
   "metadata": {},
   "source": [
    "# Why Pandas?\n",
    "\n",
    "## Getting to know the `Pandas` Library\n",
    "\n",
    "### Objectives\n",
    "\n",
    "* Describe the benefits `pandas` provides that basic python or spreadsheets alone cannot.  \n",
    "* Examine an average case where a data scientist would use `pandas` dataframes.\n",
    "\n",
    "### What is Pandas?\n",
    "\n",
    "No matter the industry you work in or the problem you're trying to solve, the first challenge with every new data science project is always the same: getting the data into Python in an organized manner.  [Pandas](https://pandas.pydata.org/) is an open-source library by Wes McKinney that combines the ease of use and organization of a spreadsheet with the power of Python.  \n",
    "\n",
    "### Storing and Retrieving Data with Pandas\n",
    "\n",
    "The most important functionality in `pandas` is the `DataFrame` class.  A **_Dataframe_** is a 2-dimensional matrix that makes it super easy to store your data in a clean,ordered way that makes sense.  Dataframes naturally look like a spreadsheet.  One reason data scientists love `pandas` is because of how easy it is to read in data sources and store the information in a dataframe. \n",
    "\n",
    "It only takes one line of code!\n",
    "\n",
    "<center><img src='dataframe-ss.jpg'></center>\n",
    "\n",
    "\n",
    "### Basic overview of Pandas Functionality\n",
    "\n",
    "Using `pandas` makes it a cinch to access data, by row or by column.  \n",
    "\n",
    "For instance, if we wanted to just see the names of the passengers and the fare that they paid, we can do that easily in pandas:\n",
    "<br>   \n",
    "<br>\n",
    "<center><img src='column-slice-ss.jpg'></center>\n",
    "<br>\n",
    "\n",
    "\n",
    "If we want to view a specific row or subset of rows, that's easy too!\n",
    "<br>   \n",
    "<br>\n",
    "<center><img src='row-slice-ss.jpg'></center>\n",
    "\n",
    "Pandas is also much more than a storage tool. Pandas has an incredible amount of statistics, math, and visualization tools built in as well.  \n",
    "\n",
    "For instance, if we wanted to see the descriptive statistics for every numerical column, there's a method for that:\n",
    "<br>\n",
    "<br>\n",
    "<center><img src='describe-ss.jpg'></center>\n",
    "<br>\n",
    "<br>\n",
    "Pandas also contains methods that wrap python's premier visualization library, [matplotlib](https://matplotlib.org/).  For instance, if we wanted to visualize a histogram of ticket classes, that's an easy task in pandas:\n",
    "<br>\n",
    "<br>\n",
    "<center><img src='plot-ss.jpg'></center>\n",
    "<br>\n",
    "<br>\n",
    "\n",
    "\n",
    "### Getting Comfortable with Pandas\n",
    "\n",
    "Throughout this unit, we'll dig deep into all of the awesome functionality contained within pandas, and get you comfortable integrating pandas into your data science workflow.  Before we get into Dataframes, we'll start by learning about a data type that is the main building block of a Dataframe--the pandas `Series` object.   \n",
    "\n"
   ]
  }
 ],
 "metadata": {
  "kernelspec": {
   "display_name": "Python 3",
   "language": "python",
   "name": "python3"
  },
  "language_info": {
   "codemirror_mode": {
    "name": "ipython",
    "version": 3
   },
   "file_extension": ".py",
   "mimetype": "text/x-python",
   "name": "python",
   "nbconvert_exporter": "python",
   "pygments_lexer": "ipython3",
   "version": "3.6.4"
  }
 },
 "nbformat": 4,
 "nbformat_minor": 2
}
