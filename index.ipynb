{
 "cells": [
  {
   "cell_type": "markdown",
   "metadata": {},
   "source": [
    "# Why Pandas?\n",
    "\n",
    "## Getting to know the `Pandas` Library\n",
    "\n",
    "### Objectives\n",
    "\n",
    "* Describe the benefits `pandas` provides that basic python does not\n",
    "* Examine an average case where a data scientist would use `pandas` dataframes.\n",
    "\n",
    "\n",
    "TODO:  Write following sections\n",
    "### Storing and Retrieving Data with Pandas\n",
    "\n",
    "--want power of python but format of spreadsheet--pandas dataframe example\n",
    "\n",
    "--section: reading from csv and excel files\n",
    "\n",
    "### Basic overview of Pandas Functionality\n",
    "\n",
    "--Reading, storing, retieving, and manipulating data\n",
    "\n",
    "--Sorting, filtering, and slicing data\n",
    "\n",
    "--Manipulating data\n",
    "\n",
    "--Plotting data (wrapper around matplotlib)"
   ]
  }
 ],
 "metadata": {
  "kernelspec": {
   "display_name": "Python 3",
   "language": "python",
   "name": "python3"
  },
  "language_info": {
   "codemirror_mode": {
    "name": "ipython",
    "version": 3
   },
   "file_extension": ".py",
   "mimetype": "text/x-python",
   "name": "python",
   "nbconvert_exporter": "python",
   "pygments_lexer": "ipython3",
   "version": "3.6.4"
  }
 },
 "nbformat": 4,
 "nbformat_minor": 2
}
